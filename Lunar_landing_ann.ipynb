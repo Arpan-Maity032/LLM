{
  "nbformat": 4,
  "nbformat_minor": 0,
  "metadata": {
    "colab": {
      "provenance": [],
      "authorship_tag": "ABX9TyMBRVe7Sd4O0MXJR5JQTZKJ",
      "include_colab_link": true
    },
    "kernelspec": {
      "name": "python3",
      "display_name": "Python 3"
    },
    "language_info": {
      "name": "python"
    }
  },
  "cells": [
    {
      "cell_type": "markdown",
      "metadata": {
        "id": "view-in-github",
        "colab_type": "text"
      },
      "source": [
        "<a href=\"https://colab.research.google.com/github/Arpan-Maity032/LLM/blob/main/Lunar_landing_ann.ipynb\" target=\"_parent\"><img src=\"https://colab.research.google.com/assets/colab-badge.svg\" alt=\"Open In Colab\"/></a>"
      ]
    },
    {
      "cell_type": "code",
      "execution_count": null,
      "metadata": {
        "colab": {
          "base_uri": "https://localhost:8080/"
        },
        "id": "Q9aiQrbUDWWm",
        "outputId": "1a2d1012-7752-476e-f858-0743546468d6"
      },
      "outputs": [
        {
          "output_type": "stream",
          "name": "stdout",
          "text": [
            "Requirement already satisfied: gymnasium in /usr/local/lib/python3.11/dist-packages (1.0.0)\n",
            "Requirement already satisfied: numpy>=1.21.0 in /usr/local/lib/python3.11/dist-packages (from gymnasium) (1.26.4)\n",
            "Requirement already satisfied: cloudpickle>=1.2.0 in /usr/local/lib/python3.11/dist-packages (from gymnasium) (3.1.1)\n",
            "Requirement already satisfied: typing-extensions>=4.3.0 in /usr/local/lib/python3.11/dist-packages (from gymnasium) (4.12.2)\n",
            "Requirement already satisfied: farama-notifications>=0.0.1 in /usr/local/lib/python3.11/dist-packages (from gymnasium) (0.0.4)\n",
            "Requirement already satisfied: gymnasium[accept-rom-license,atari] in /usr/local/lib/python3.11/dist-packages (1.0.0)\n",
            "\u001b[33mWARNING: gymnasium 1.0.0 does not provide the extra 'accept-rom-license'\u001b[0m\u001b[33m\n",
            "\u001b[0mRequirement already satisfied: numpy>=1.21.0 in /usr/local/lib/python3.11/dist-packages (from gymnasium[accept-rom-license,atari]) (1.26.4)\n",
            "Requirement already satisfied: cloudpickle>=1.2.0 in /usr/local/lib/python3.11/dist-packages (from gymnasium[accept-rom-license,atari]) (3.1.1)\n",
            "Requirement already satisfied: typing-extensions>=4.3.0 in /usr/local/lib/python3.11/dist-packages (from gymnasium[accept-rom-license,atari]) (4.12.2)\n",
            "Requirement already satisfied: farama-notifications>=0.0.1 in /usr/local/lib/python3.11/dist-packages (from gymnasium[accept-rom-license,atari]) (0.0.4)\n",
            "Requirement already satisfied: ale-py>=0.9 in /usr/local/lib/python3.11/dist-packages (from gymnasium[accept-rom-license,atari]) (0.10.1)\n",
            "Reading package lists... Done\n",
            "Building dependency tree... Done\n",
            "Reading state information... Done\n",
            "The following additional packages will be installed:\n",
            "  swig4.0\n",
            "Suggested packages:\n",
            "  swig-doc swig-examples swig4.0-examples swig4.0-doc\n",
            "The following NEW packages will be installed:\n",
            "  swig swig4.0\n",
            "0 upgraded, 2 newly installed, 0 to remove and 19 not upgraded.\n",
            "Need to get 1,116 kB of archives.\n",
            "After this operation, 5,542 kB of additional disk space will be used.\n",
            "Get:1 http://archive.ubuntu.com/ubuntu jammy/universe amd64 swig4.0 amd64 4.0.2-1ubuntu1 [1,110 kB]\n",
            "Get:2 http://archive.ubuntu.com/ubuntu jammy/universe amd64 swig all 4.0.2-1ubuntu1 [5,632 B]\n",
            "Fetched 1,116 kB in 1s (892 kB/s)\n",
            "Selecting previously unselected package swig4.0.\n",
            "(Reading database ... 124926 files and directories currently installed.)\n",
            "Preparing to unpack .../swig4.0_4.0.2-1ubuntu1_amd64.deb ...\n",
            "Unpacking swig4.0 (4.0.2-1ubuntu1) ...\n",
            "Selecting previously unselected package swig.\n",
            "Preparing to unpack .../swig_4.0.2-1ubuntu1_all.deb ...\n",
            "Unpacking swig (4.0.2-1ubuntu1) ...\n",
            "Setting up swig4.0 (4.0.2-1ubuntu1) ...\n",
            "Setting up swig (4.0.2-1ubuntu1) ...\n",
            "Processing triggers for man-db (2.10.2-1) ...\n",
            "Requirement already satisfied: gymnasium[box2d] in /usr/local/lib/python3.11/dist-packages (1.0.0)\n",
            "Requirement already satisfied: numpy>=1.21.0 in /usr/local/lib/python3.11/dist-packages (from gymnasium[box2d]) (1.26.4)\n",
            "Requirement already satisfied: cloudpickle>=1.2.0 in /usr/local/lib/python3.11/dist-packages (from gymnasium[box2d]) (3.1.1)\n",
            "Requirement already satisfied: typing-extensions>=4.3.0 in /usr/local/lib/python3.11/dist-packages (from gymnasium[box2d]) (4.12.2)\n",
            "Requirement already satisfied: farama-notifications>=0.0.1 in /usr/local/lib/python3.11/dist-packages (from gymnasium[box2d]) (0.0.4)\n",
            "Collecting box2d-py==2.3.5 (from gymnasium[box2d])\n",
            "  Downloading box2d-py-2.3.5.tar.gz (374 kB)\n",
            "\u001b[2K     \u001b[90m━━━━━━━━━━━━━━━━━━━━━━━━━━━━━━━━━━━━━━━━\u001b[0m \u001b[32m374.4/374.4 kB\u001b[0m \u001b[31m5.1 MB/s\u001b[0m eta \u001b[36m0:00:00\u001b[0m\n",
            "\u001b[?25h  Preparing metadata (setup.py) ... \u001b[?25l\u001b[?25hdone\n",
            "Requirement already satisfied: pygame>=2.1.3 in /usr/local/lib/python3.11/dist-packages (from gymnasium[box2d]) (2.6.1)\n",
            "Collecting swig==4.* (from gymnasium[box2d])\n",
            "  Downloading swig-4.3.0-py2.py3-none-manylinux_2_5_x86_64.manylinux1_x86_64.whl.metadata (3.5 kB)\n",
            "Downloading swig-4.3.0-py2.py3-none-manylinux_2_5_x86_64.manylinux1_x86_64.whl (1.9 MB)\n",
            "\u001b[2K   \u001b[90m━━━━━━━━━━━━━━━━━━━━━━━━━━━━━━━━━━━━━━━━\u001b[0m \u001b[32m1.9/1.9 MB\u001b[0m \u001b[31m36.6 MB/s\u001b[0m eta \u001b[36m0:00:00\u001b[0m\n",
            "\u001b[?25hBuilding wheels for collected packages: box2d-py\n",
            "  Building wheel for box2d-py (setup.py) ... \u001b[?25l\u001b[?25hdone\n",
            "  Created wheel for box2d-py: filename=box2d_py-2.3.5-cp311-cp311-linux_x86_64.whl size=2351232 sha256=6b325196b897d90f0627b64dae7d9cb99d31442f138699408af936734148848d\n",
            "  Stored in directory: /root/.cache/pip/wheels/ab/f1/0c/d56f4a2bdd12bae0a0693ec33f2f0daadb5eb9753c78fa5308\n",
            "Successfully built box2d-py\n",
            "Installing collected packages: swig, box2d-py\n",
            "Successfully installed box2d-py-2.3.5 swig-4.3.0\n"
          ]
        }
      ],
      "source": [
        "!pip install gymnasium\n",
        "!pip install \"gymnasium[atari, accept-rom-license]\"\n",
        "!apt-get install -y swig\n",
        "!pip install \"gymnasium[box2d]\""
      ]
    },
    {
      "cell_type": "markdown",
      "source": [
        "Install gymnasium\n"
      ],
      "metadata": {
        "id": "BRUZXmwIExoe"
      }
    },
    {
      "cell_type": "code",
      "source": [
        "import os\n",
        "import random\n",
        "import numpy as np\n",
        "import torch\n",
        "import torch.nn as nn\n",
        "import torch.optim as optim\n",
        "import torch.nn.functional as F\n",
        "import torch.autograd as autograd\n",
        "from torch.autograd import Variable\n",
        "from collections import deque, namedtuple"
      ],
      "metadata": {
        "id": "oZQfUNT9INzo"
      },
      "execution_count": null,
      "outputs": []
    },
    {
      "cell_type": "markdown",
      "source": [
        "Building AI Architecture"
      ],
      "metadata": {
        "id": "vGaqG7dsJN5N"
      }
    },
    {
      "cell_type": "code",
      "source": [
        "class Network(nn.Module):\n",
        "  def __init__(self, state_size,action_size,seed=42):\n",
        "    super(Network,self).__init__()\n",
        "    self.seed=torch.manual_seed(seed)\n",
        "    self.fc1=nn.Linear(state_size,64)\n",
        "    self.fc2=nn.Linear(64,64)\n",
        "    self.fc3=nn.Linear(64,action_size)\n",
        "\n",
        "  def forward(self,state):\n",
        "    x=self.fc1(state)\n",
        "    x=F.relu(x)\n",
        "    x=self.fc2(x)\n",
        "    x=F.relu(x)\n",
        "    return self.fc3(x)\n",
        "\n"
      ],
      "metadata": {
        "id": "Y_igzmqsJAkW"
      },
      "execution_count": null,
      "outputs": []
    },
    {
      "cell_type": "code",
      "source": [
        "#Train the Ai\n",
        "import gymnasium as gym\n",
        "env=gym.make(\"LunarLander-v3\")\n",
        "state_shape=env.observation_space.shape\n",
        "state_size=state_shape[0]\n",
        "number_actions=env.action_space.n\n",
        "print(\"state shape\",state_shape)\n",
        "print(\"state size\",state_size)\n",
        "print(\"number of action\",number_actions)"
      ],
      "metadata": {
        "colab": {
          "base_uri": "https://localhost:8080/"
        },
        "id": "5z-OrI1oNdbT",
        "outputId": "d4dd332f-7d49-40db-fede-66ec027c8e9d"
      },
      "execution_count": null,
      "outputs": [
        {
          "output_type": "stream",
          "name": "stdout",
          "text": [
            "state shape (8,)\n",
            "state size 8\n",
            "number of action 4\n"
          ]
        }
      ]
    },
    {
      "cell_type": "markdown",
      "source": [
        "Initializing the hyper plane"
      ],
      "metadata": {
        "id": "bCqX-jOVQiTf"
      }
    },
    {
      "cell_type": "code",
      "source": [
        "learning_rate=5e-4\n",
        "minibatch_size=100\n",
        "discount_factor=0.99\n",
        "replay_buffer_size=int(1e5)\n",
        "interpolation_parameter=1e-3\n"
      ],
      "metadata": {
        "id": "i6FRJ4DxQUEk"
      },
      "execution_count": null,
      "outputs": []
    },
    {
      "cell_type": "code",
      "source": [
        "#experiance replay\n",
        "class ReplayMemory(object):\n",
        "  def __init__(self,capacity):\n",
        "    self.device = torch.device(\"cuda:0\" if torch.cuda.is_available() else \"cpu\")\n",
        "    self.capacity=capacity\n",
        "    self.memory=[]\n",
        "\n",
        "  def push(self,event):\n",
        "    self.memory.append(event)\n",
        "    if len(self.memory)>self.capacity:\n",
        "      del self.memory[0]\n",
        "\n",
        "  def sample(self,batch_size):\n",
        "    experiances=random.sample(self.memory,k=batch_size)\n",
        "    states =torch.from_numpy(np.vstack([e[0] for e in experiances if e is not None])).float().to(self.device)\n",
        "    actions =torch.from_numpy(np.vstack([e[1] for e in experiances if e is not None])).long().to(self.device)\n",
        "    rewards =torch.from_numpy(np.vstack([e[2] for e in experiances if e is not None])).float().to(self.device)\n",
        "    next_states =torch.from_numpy(np.vstack([e[3] for e in experiances if e is not None])).float().to(self.device)\n",
        "    dones =torch.from_numpy(np.vstack([e[4] for e in experiances if e is not None]).astype(np.uint8)).float().to(self.device)\n",
        "    return (states,actions,rewards,next_states,dones)"
      ],
      "metadata": {
        "id": "6IBMpRtbRobP"
      },
      "execution_count": null,
      "outputs": []
    },
    {
      "cell_type": "code",
      "source": [
        "#Implementing DQN class\n",
        "\n",
        "class Agent():\n",
        "  def __init__(self,state_size,action_size):\n",
        "    self.device = torch.device(\"cuda:0\" if torch.cuda.is_available() else \"cpu\")\n",
        "    self.state_size=state_size\n",
        "    self.action_size=action_size\n",
        "    self.local_qnetwork = Network(state_size,action_size).to(self.device)\n",
        "    self.target_qnetwork = Network(state_size,action_size).to(self.device)\n",
        "    self.optimizer =optim.Adam(self.local_qnetwork.parameters(),lr=learning_rate)\n",
        "    self.memory=ReplayMemory(replay_buffer_size)\n",
        "    self.t_step=0\n",
        "\n",
        "  def step(self,state,action,reward,next_state,done):\n",
        "    self.memory.push((state,action,reward,next_state,done))\n",
        "    self.t_step = (self.t_step+1)%4\n",
        "    if self.t_step ==0:\n",
        "      if len(self.memory.memory)>minibatch_size:\n",
        "        experiences=self.memory.sample(100)\n",
        "        self.learn(experiences,discount_factor)\n",
        "\n",
        "  def act(self,state,epsilon=0.):\n",
        "    state =torch.from_numpy(state).float().unsqueeze(0).to(self.device)\n",
        "    self.local_qnetwork.eval()\n",
        "    with torch.no_grad():\n",
        "      action_values=self.local_qnetwork(state)\n",
        "    self.local_qnetwork.train()\n",
        "    if random.random()>epsilon:\n",
        "      return np.argmax(action_values.cpu().data.numpy())\n",
        "    else:\n",
        "      return random.choice(np.arange(self.action_size))\n",
        "\n",
        "  def learn(self,experiences,discount_factor):\n",
        "    states,actions,rewards,next_states,dones=experiences\n",
        "    next_q_target=self.target_qnetwork(next_states).detach().max(1)[0].unsqueeze(1)\n",
        "    q_target=rewards+discount_factor*next_q_target*(1-dones)\n",
        "    q_expected=self.local_qnetwork(states).gather(1,actions)\n",
        "    loss=F.mse_loss(q_expected,q_target)\n",
        "    self.optimizer.zero_grad()\n",
        "    loss.backward()\n",
        "    self.optimizer.step()\n",
        "    self.soft_update(self.local_qnetwork,self.target_qnetwork,interpolation_parameter)\n",
        "\n",
        "\n",
        "  def soft_update(self,local_model,target_model,interpolation):\n",
        "    for target_param,local_param in zip(target_model.parameters(),local_model.parameters()):\n",
        "      target_param.data.copy_(interpolation*local_param.data+(1.0 - interpolation)*target_param.data)"
      ],
      "metadata": {
        "id": "N_bmcxW-SZo9"
      },
      "execution_count": null,
      "outputs": []
    },
    {
      "cell_type": "code",
      "source": [
        "#Initializing agent DQN Agent\n",
        "agent=Agent(state_size,number_actions)"
      ],
      "metadata": {
        "id": "RNCCrz0IXlVp"
      },
      "execution_count": null,
      "outputs": []
    },
    {
      "cell_type": "code",
      "source": [
        "#parameter of Training the Agent\n",
        "\n",
        "number_episodes = 2000\n",
        "maximun_number_timesteps_per_episode=1000\n",
        "epsilon_starting_value=1.0\n",
        "epsilon_ending_value =0.01\n",
        "epsilon_decay_value =0.995\n",
        "epsilon = epsilon_starting_value\n",
        "scores_on_100_episodes=deque(maxlen=100)\n",
        "\n",
        "for episode in range(1,number_episodes+1):\n",
        "  state,_=env.reset()\n",
        "  score=0\n",
        "  for t in range(maximun_number_timesteps_per_episode):\n",
        "    action=agent.act(state,epsilon)\n",
        "    next_state,reward,done,_,_=env.step(action)\n",
        "    agent.step(state,action,reward,next_state,done)\n",
        "    state=next_state\n",
        "    score+=reward\n",
        "    if done:\n",
        "      break\n",
        "  scores_on_100_episodes.append(score)\n",
        "  epsilon=max(epsilon_ending_value,epsilon*epsilon_decay_value)\n",
        "  print(\"\\rEpisode {}\\tAverage Score: {:.2f}\".format(episode,np.mean(scores_on_100_episodes)),end=\"\")\n",
        "  if episode%100==0:\n",
        "    print(\"\\rEpisode {}\\tAverage Score: {:.2f}\".format(episode,np.mean(scores_on_100_episodes)))\n",
        "  if np.mean(scores_on_100_episodes)>=200:\n",
        "    print(\"\\nEnvironment solved in {:d} episodes!\\tAverage Score: {:.2f}\".format(episode-100,np.mean(scores_on_100_episodes)))\n",
        "    torch.save(agent.local_qnetwork.state_dict(),'checkpoint.pth')\n",
        "    break\n"
      ],
      "metadata": {
        "colab": {
          "base_uri": "https://localhost:8080/"
        },
        "id": "wvQRqzNpWcKT",
        "outputId": "b39866fc-8692-42e9-d80c-a7cc069eb2fe"
      },
      "execution_count": null,
      "outputs": [
        {
          "output_type": "stream",
          "name": "stdout",
          "text": [
            "Episode 100\tAverage Score: -98.28\n",
            "Episode 200\tAverage Score: -13.73\n",
            "Episode 300\tAverage Score: 83.52\n",
            "Episode 400\tAverage Score: 199.90\n",
            "Episode 401\tAverage Score: 201.21\n",
            "Environment solved in 301 episodes!\tAverage Score: 201.21\n"
          ]
        }
      ]
    },
    {
      "cell_type": "code",
      "source": [
        "import glob\n",
        "import io\n",
        "import base64\n",
        "import imageio\n",
        "from IPython.display import HTML, display\n",
        "from gym.wrappers.monitoring.video_recorder import VideoRecorder\n",
        "\n",
        "def show_video_of_model(agent, env_name):\n",
        "    env = gym.make(env_name, render_mode='rgb_array')\n",
        "    state, _ = env.reset()\n",
        "    done = False\n",
        "    frames = []\n",
        "    while not done:\n",
        "        frame = env.render()\n",
        "        frames.append(frame)\n",
        "        action = agent.act(state)\n",
        "        state, reward, done, _, _ = env.step(action.item())\n",
        "    env.close()\n",
        "    imageio.mimsave('video.mp4', frames, fps=30)\n",
        "\n",
        "show_video_of_model(agent, 'LunarLander-v3')\n",
        "\n",
        "def show_video():\n",
        "    mp4list = glob.glob('*.mp4')\n",
        "    if len(mp4list) > 0:\n",
        "        mp4 = mp4list[0]\n",
        "        video = io.open(mp4, 'r+b').read()\n",
        "        encoded = base64.b64encode(video)\n",
        "        display(HTML(data='''<video alt=\"test\" autoplay\n",
        "                loop controls style=\"height: 400px;\">\n",
        "                <source src=\"data:video/mp4;base64,{0}\" type=\"video/mp4\" />\n",
        "             </video>'''.format(encoded.decode('ascii'))))\n",
        "    else:\n",
        "        print(\"Could not find video\")\n",
        "\n",
        "show_video()"
      ],
      "metadata": {
        "colab": {
          "base_uri": "https://localhost:8080/",
          "height": 459
        },
        "id": "v3pPwl_mZ5Rk",
        "outputId": "39062e70-ad46-4226-d777-dac68f388031"
      },
      "execution_count": null,
      "outputs": [
        {
          "output_type": "stream",
          "name": "stderr",
          "text": [
            "WARNING:imageio_ffmpeg:IMAGEIO FFMPEG_WRITER WARNING: input image is not divisible by macro_block_size=16, resizing from (600, 400) to (608, 400) to ensure video compatibility with most codecs and players. To prevent resizing, make your input image divisible by the macro_block_size or set the macro_block_size to 1 (risking incompatibility).\n"
          ]
        },
        {
          "output_type": "display_data",
          "data": {
            "text/plain": [
              "<IPython.core.display.HTML object>"
            ],
            "text/html": [
              "<video alt=\"test\" autoplay\n",
              "                loop controls style=\"height: 400px;\">\n",
              "                <source src=\"data:video/mp4;base64,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\" type=\"video/mp4\" />\n",
              "             </video>"
            ]
          },
          "metadata": {}
        }
      ]
    },
    {
      "cell_type": "code",
      "source": [],
      "metadata": {
        "id": "wO9xrL8RW0Hm"
      },
      "execution_count": null,
      "outputs": []
    }
  ]
}